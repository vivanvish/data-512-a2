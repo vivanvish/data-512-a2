{
 "cells": [
  {
   "cell_type": "markdown",
   "metadata": {},
   "source": [
    "### Assignment 2: Bias in Data\n",
    "## Analyzing Wikipedia articles on political figures from different countries.\n",
    "###### Vishnu Nandakumar"
   ]
  },
  {
   "cell_type": "markdown",
   "metadata": {},
   "source": [
    "\n",
    "The main objective of this notebook is to provide a detailed walkthrough of the steps involved in analysing quality of the Wikipedia articles on political figures from various countries. The data involved in the analysis are obtained from two sources:\n",
    "- Politicians by Country from the English-language Wikipedia dataset: [Source: Figshare](https://figshare.com/articles/Untitled_Item/5513449) \n",
    "- 2018 World Populataion Data Sheet by the Population Reference Bureau: [Source: Dropbox](https://www.dropbox.com/s/5u7sy1xt7g0oi2c/WPDS_2018_data.csv?dl=0)\n",
    "\n",
    "The data quality is assesed using **ORES (Objective Revision Evaluation Service)**, which is a web service and API that provides machine learning as a service for Wikimedia projects maintained by the Scoring Platform team.\n",
    "\n",
    "The notebook is organized into the following sections:\n",
    "- Getting Article and Population data\n",
    "- Getting Article quality estimates using ORES\n",
    "- Creating the analytic dataset\n",
    "- Analysis and Results "
   ]
  },
  {
   "cell_type": "code",
   "execution_count": 1,
   "metadata": {},
   "outputs": [],
   "source": [
    "# Loading the necessary packages\n",
    "import json\n",
    "import pandas as pd\n",
    "import numpy as np\n",
    "import requests\n",
    "import matplotlib.pyplot as plt"
   ]
  },
  {
   "cell_type": "markdown",
   "metadata": {},
   "source": [
    "Defining generic functions to read the datasets as well as to access the ORES service."
   ]
  },
  {
   "cell_type": "code",
   "execution_count": 2,
   "metadata": {},
   "outputs": [],
   "source": [
    "def get_data(file):\n",
    "    \"\"\"\n",
    "    Function to retrieve the specified file as a dataframe.\n",
    "    Expects the target file to be a .csv file.\n",
    "    Args:\n",
    "        file(str): Path of the target file\n",
    "    Returns:\n",
    "        df(pandas.Dataframe)\n",
    "    Raises:\n",
    "        FileNotFoundError: If file doesn't exist.\n",
    "    \"\"\"\n",
    "    try:\n",
    "        df = pd.read_csv(file,thousands=',')\n",
    "        return df\n",
    "    except FileNotFoundError:\n",
    "        raise FileNotFoundError(\"The file {} does not exist\".format(file))\n",
    "        \n",
    "HEADERS = {'User-Agent' : 'https://github.com/vivanvish', 'From' : 'vishnn@uw.edu'}\n",
    "\n",
    "def get_ores_data(revision_ids):\n",
    "    \"\"\"\n",
    "    Function to retrieve the quality scores from ORES API.\n",
    "    Args:\n",
    "        revision_ids (int): The revision id of the articles,\n",
    "        headers(dict): Request headers.\n",
    "    Returns:\n",
    "        rev_score_arr(list:dict) : List of dictionaries with revision_id:score pairs.\n",
    "        error_revs(list:int) : List of revision ids for which we didnt get the score.\n",
    "    \"\"\"\n",
    "    # Define the endpoint\n",
    "    endpoint = 'https://ores.wikimedia.org/v3/scores/{project}/?models={model}&revids={revids}'\n",
    "    params = {'project' : 'enwiki',\n",
    "              'model'   : 'wp10',\n",
    "              'revids'  : '|'.join(str(x) for x in revision_ids)\n",
    "              }\n",
    "    api_call = requests.get(endpoint.format(**params), headers=HEADERS)\n",
    "    response = api_call.json()\n",
    "    \n",
    "    # Stripping out the scores in the predictions.\n",
    "    rev_score_arr = []\n",
    "    error_revs = []\n",
    "    for rev_id in revision_ids:\n",
    "        try:\n",
    "            score = response['enwiki'][\"scores\"][str(rev_id)][\"wp10\"][\"score\"][\"prediction\"]\n",
    "            rev_score_arr.append({'rev_id':rev_id,\n",
    "                                  'score':score})\n",
    "        except:\n",
    "            # Storing the rev_ids for which we couldn't get any score.\n",
    "            error_revs.append(rev_id)\n",
    "    return rev_score_arr, error_revs\n"
   ]
  },
  {
   "cell_type": "markdown",
   "metadata": {},
   "source": [
    "### Section 1: Getting Article and Population data\n",
    "### Population Data\n",
    "\n",
    "The population data used here is obtained from the Population Reference Bureau's 2018 estimates. In order to ensure full reproducibility the data has been saved to Dropbox and can be downloaded freely. The link can be found in project description given above and also in the readme. For convenience I have downloaded and stored it in the data folder under the name `WPDS_2018_data.csv`."
   ]
  },
  {
   "cell_type": "code",
   "execution_count": 3,
   "metadata": {},
   "outputs": [
    {
     "data": {
      "text/html": [
       "<div>\n",
       "<style scoped>\n",
       "    .dataframe tbody tr th:only-of-type {\n",
       "        vertical-align: middle;\n",
       "    }\n",
       "\n",
       "    .dataframe tbody tr th {\n",
       "        vertical-align: top;\n",
       "    }\n",
       "\n",
       "    .dataframe thead th {\n",
       "        text-align: right;\n",
       "    }\n",
       "</style>\n",
       "<table border=\"1\" class=\"dataframe\">\n",
       "  <thead>\n",
       "    <tr style=\"text-align: right;\">\n",
       "      <th></th>\n",
       "      <th>Geography</th>\n",
       "      <th>Population mid-2018 (millions)</th>\n",
       "    </tr>\n",
       "  </thead>\n",
       "  <tbody>\n",
       "    <tr>\n",
       "      <th>0</th>\n",
       "      <td>AFRICA</td>\n",
       "      <td>1284.0</td>\n",
       "    </tr>\n",
       "    <tr>\n",
       "      <th>1</th>\n",
       "      <td>Algeria</td>\n",
       "      <td>42.7</td>\n",
       "    </tr>\n",
       "    <tr>\n",
       "      <th>2</th>\n",
       "      <td>Egypt</td>\n",
       "      <td>97.0</td>\n",
       "    </tr>\n",
       "    <tr>\n",
       "      <th>3</th>\n",
       "      <td>Libya</td>\n",
       "      <td>6.5</td>\n",
       "    </tr>\n",
       "    <tr>\n",
       "      <th>4</th>\n",
       "      <td>Morocco</td>\n",
       "      <td>35.2</td>\n",
       "    </tr>\n",
       "  </tbody>\n",
       "</table>\n",
       "</div>"
      ],
      "text/plain": [
       "  Geography  Population mid-2018 (millions)\n",
       "0    AFRICA                          1284.0\n",
       "1   Algeria                            42.7\n",
       "2     Egypt                            97.0\n",
       "3     Libya                             6.5\n",
       "4   Morocco                            35.2"
      ]
     },
     "execution_count": 3,
     "metadata": {},
     "output_type": "execute_result"
    }
   ],
   "source": [
    "population_df = get_data('data/WPDS_2018_data.csv')\n",
    "# An initial look at the data\n",
    "population_df.head()"
   ]
  },
  {
   "cell_type": "code",
   "execution_count": 52,
   "metadata": {},
   "outputs": [
    {
     "data": {
      "text/plain": [
       "(207, 2)"
      ]
     },
     "execution_count": 52,
     "metadata": {},
     "output_type": "execute_result"
    }
   ],
   "source": [
    "population_df.shape"
   ]
  },
  {
   "cell_type": "markdown",
   "metadata": {},
   "source": [
    "There are 207 individual locations in the dataset. The individual countries are listed under their a parent geographical locations such as their respective continents etc. Let's check for the parent level geographical locations. **We can filter them by searching for location names in all caps.**"
   ]
  },
  {
   "cell_type": "code",
   "execution_count": 46,
   "metadata": {},
   "outputs": [
    {
     "data": {
      "text/html": [
       "<div>\n",
       "<style scoped>\n",
       "    .dataframe tbody tr th:only-of-type {\n",
       "        vertical-align: middle;\n",
       "    }\n",
       "\n",
       "    .dataframe tbody tr th {\n",
       "        vertical-align: top;\n",
       "    }\n",
       "\n",
       "    .dataframe thead th {\n",
       "        text-align: right;\n",
       "    }\n",
       "</style>\n",
       "<table border=\"1\" class=\"dataframe\">\n",
       "  <thead>\n",
       "    <tr style=\"text-align: right;\">\n",
       "      <th></th>\n",
       "      <th>Geography</th>\n",
       "      <th>Population mid-2018 (millions)</th>\n",
       "    </tr>\n",
       "  </thead>\n",
       "  <tbody>\n",
       "    <tr>\n",
       "      <th>0</th>\n",
       "      <td>AFRICA</td>\n",
       "      <td>1284.0</td>\n",
       "    </tr>\n",
       "    <tr>\n",
       "      <th>56</th>\n",
       "      <td>NORTHERN AMERICA</td>\n",
       "      <td>365.0</td>\n",
       "    </tr>\n",
       "    <tr>\n",
       "      <th>59</th>\n",
       "      <td>LATIN AMERICA AND THE CARIBBEAN</td>\n",
       "      <td>649.0</td>\n",
       "    </tr>\n",
       "    <tr>\n",
       "      <th>95</th>\n",
       "      <td>ASIA</td>\n",
       "      <td>4536.0</td>\n",
       "    </tr>\n",
       "    <tr>\n",
       "      <th>144</th>\n",
       "      <td>EUROPE</td>\n",
       "      <td>746.0</td>\n",
       "    </tr>\n",
       "    <tr>\n",
       "      <th>189</th>\n",
       "      <td>OCEANIA</td>\n",
       "      <td>41.0</td>\n",
       "    </tr>\n",
       "  </tbody>\n",
       "</table>\n",
       "</div>"
      ],
      "text/plain": [
       "                           Geography  Population mid-2018 (millions)\n",
       "0                             AFRICA                          1284.0\n",
       "56                  NORTHERN AMERICA                           365.0\n",
       "59   LATIN AMERICA AND THE CARIBBEAN                           649.0\n",
       "95                              ASIA                          4536.0\n",
       "144                           EUROPE                           746.0\n",
       "189                          OCEANIA                            41.0"
      ]
     },
     "execution_count": 46,
     "metadata": {},
     "output_type": "execute_result"
    }
   ],
   "source": [
    "population_df[population_df[\"Geography\"].str.isupper()]"
   ]
  },
  {
   "cell_type": "code",
   "execution_count": 67,
   "metadata": {},
   "outputs": [],
   "source": [
    "# Saving them for further use.\n",
    "aggregate_locs = population_df[population_df[\"Geography\"].str.isupper()][\"Geography\"].tolist()"
   ]
  },
  {
   "cell_type": "markdown",
   "metadata": {},
   "source": [
    "There are 6 parent level locations. \n",
    "\n",
    "Let's check for any NaNs and unusual values."
   ]
  },
  {
   "cell_type": "code",
   "execution_count": 45,
   "metadata": {},
   "outputs": [
    {
     "data": {
      "text/html": [
       "<div>\n",
       "<style scoped>\n",
       "    .dataframe tbody tr th:only-of-type {\n",
       "        vertical-align: middle;\n",
       "    }\n",
       "\n",
       "    .dataframe tbody tr th {\n",
       "        vertical-align: top;\n",
       "    }\n",
       "\n",
       "    .dataframe thead th {\n",
       "        text-align: right;\n",
       "    }\n",
       "</style>\n",
       "<table border=\"1\" class=\"dataframe\">\n",
       "  <thead>\n",
       "    <tr style=\"text-align: right;\">\n",
       "      <th></th>\n",
       "      <th>Geography</th>\n",
       "      <th>Population mid-2018 (millions)</th>\n",
       "    </tr>\n",
       "  </thead>\n",
       "  <tbody>\n",
       "  </tbody>\n",
       "</table>\n",
       "</div>"
      ],
      "text/plain": [
       "Empty DataFrame\n",
       "Columns: [Geography, Population mid-2018 (millions)]\n",
       "Index: []"
      ]
     },
     "execution_count": 45,
     "metadata": {},
     "output_type": "execute_result"
    }
   ],
   "source": [
    "population_df[population_df.isnull().any(axis=1)]"
   ]
  },
  {
   "cell_type": "markdown",
   "metadata": {},
   "source": [
    "Looks like no NaNs, which is good. Checking for unsual values by looking at the max and min values.  "
   ]
  },
  {
   "cell_type": "code",
   "execution_count": 47,
   "metadata": {},
   "outputs": [
    {
     "data": {
      "text/plain": [
       "(0.01, 4536.0)"
      ]
     },
     "execution_count": 47,
     "metadata": {},
     "output_type": "execute_result"
    }
   ],
   "source": [
    "population_df[\"Population mid-2018 (millions)\"].min(), population_df[\"Population mid-2018 (millions)\"].max()"
   ]
  },
  {
   "cell_type": "markdown",
   "metadata": {},
   "source": [
    "Seems like there are no unusual values that are negative or zeroes."
   ]
  },
  {
   "cell_type": "markdown",
   "metadata": {},
   "source": [
    "### Wikipedia Article Data\n",
    "\n",
    "The article dataset is basically the metadata of articles on Politicians by country published on Wikipedia English. However, the time span of the data is not clear. The data was published on `28.10.2017`, so for the purpose of the analysis we can assume that as the upper limit on the time span. The link is provided in the description above as well as in the readme. The data is also stored locally as `page_data.csv` in the `data` folder."
   ]
  },
  {
   "cell_type": "code",
   "execution_count": 115,
   "metadata": {},
   "outputs": [
    {
     "data": {
      "text/html": [
       "<div>\n",
       "<style scoped>\n",
       "    .dataframe tbody tr th:only-of-type {\n",
       "        vertical-align: middle;\n",
       "    }\n",
       "\n",
       "    .dataframe tbody tr th {\n",
       "        vertical-align: top;\n",
       "    }\n",
       "\n",
       "    .dataframe thead th {\n",
       "        text-align: right;\n",
       "    }\n",
       "</style>\n",
       "<table border=\"1\" class=\"dataframe\">\n",
       "  <thead>\n",
       "    <tr style=\"text-align: right;\">\n",
       "      <th></th>\n",
       "      <th>page</th>\n",
       "      <th>country</th>\n",
       "      <th>rev_id</th>\n",
       "    </tr>\n",
       "  </thead>\n",
       "  <tbody>\n",
       "    <tr>\n",
       "      <th>0</th>\n",
       "      <td>Template:ZambiaProvincialMinisters</td>\n",
       "      <td>Zambia</td>\n",
       "      <td>235107991</td>\n",
       "    </tr>\n",
       "    <tr>\n",
       "      <th>1</th>\n",
       "      <td>Bir I of Kanem</td>\n",
       "      <td>Chad</td>\n",
       "      <td>355319463</td>\n",
       "    </tr>\n",
       "    <tr>\n",
       "      <th>2</th>\n",
       "      <td>Template:Zimbabwe-politician-stub</td>\n",
       "      <td>Zimbabwe</td>\n",
       "      <td>391862046</td>\n",
       "    </tr>\n",
       "    <tr>\n",
       "      <th>3</th>\n",
       "      <td>Template:Uganda-politician-stub</td>\n",
       "      <td>Uganda</td>\n",
       "      <td>391862070</td>\n",
       "    </tr>\n",
       "    <tr>\n",
       "      <th>4</th>\n",
       "      <td>Template:Namibia-politician-stub</td>\n",
       "      <td>Namibia</td>\n",
       "      <td>391862409</td>\n",
       "    </tr>\n",
       "  </tbody>\n",
       "</table>\n",
       "</div>"
      ],
      "text/plain": [
       "                                 page   country     rev_id\n",
       "0  Template:ZambiaProvincialMinisters    Zambia  235107991\n",
       "1                      Bir I of Kanem      Chad  355319463\n",
       "2   Template:Zimbabwe-politician-stub  Zimbabwe  391862046\n",
       "3     Template:Uganda-politician-stub    Uganda  391862070\n",
       "4    Template:Namibia-politician-stub   Namibia  391862409"
      ]
     },
     "execution_count": 115,
     "metadata": {},
     "output_type": "execute_result"
    }
   ],
   "source": [
    "article_df = get_data('data/page_data.csv')\n",
    "article_df.head()"
   ]
  },
  {
   "cell_type": "code",
   "execution_count": 116,
   "metadata": {},
   "outputs": [
    {
     "data": {
      "text/plain": [
       "(219,)"
      ]
     },
     "execution_count": 116,
     "metadata": {},
     "output_type": "execute_result"
    }
   ],
   "source": [
    "article_df[\"country\"].unique().shape"
   ]
  },
  {
   "cell_type": "markdown",
   "metadata": {},
   "source": [
    "Despite lacking the aggregate locations, there seems to be more locations in this dataset than that is there in the Population dataset. Looking a bit deeper to find the extra locations, so that we can be careful while creating the final analytical dataset."
   ]
  },
  {
   "cell_type": "code",
   "execution_count": 117,
   "metadata": {},
   "outputs": [
    {
     "data": {
      "text/plain": [
       "{'Abkhazia',\n",
       " 'Cape Colony',\n",
       " 'Carniolan',\n",
       " 'Chechen',\n",
       " 'Congo, Dem. Rep. of',\n",
       " 'Cook Island',\n",
       " 'Czech Republic',\n",
       " 'Dagestani',\n",
       " 'East Timorese',\n",
       " 'Faroese',\n",
       " 'French Guiana',\n",
       " 'Greenlandic',\n",
       " 'Guadeloupe',\n",
       " 'Guernsey',\n",
       " 'Hondura',\n",
       " 'Incan',\n",
       " 'Ivorian',\n",
       " 'Jersey',\n",
       " 'Martinique',\n",
       " 'Montserratian',\n",
       " 'Niuean',\n",
       " 'Omani',\n",
       " 'Ossetian',\n",
       " 'Palauan',\n",
       " 'Palestinian Territory',\n",
       " 'Pitcairn Islands',\n",
       " 'Rhodesian',\n",
       " 'Rojava',\n",
       " 'Saint Kitts and Nevis',\n",
       " 'Saint Lucian',\n",
       " 'Saint Vincent and the Grenadines',\n",
       " 'Salvadoran',\n",
       " 'Samoan',\n",
       " 'Somaliland',\n",
       " 'South African Republic',\n",
       " 'South Korean',\n",
       " 'South Ossetian',\n",
       " 'Swaziland',\n",
       " 'Tokelauan'}"
      ]
     },
     "execution_count": 117,
     "metadata": {},
     "output_type": "execute_result"
    }
   ],
   "source": [
    "population_locs = population_df[\"Geography\"].unique().tolist()\n",
    "article_locs = article_df[\"country\"].unique().tolist()\n",
    "# Finding set of locations present in article locations and not in population locations.\n",
    "# Also ignoring the aggregate locations since they are not relevant here.\n",
    "set(article_locs) - set(population_locs) - set(aggregate_locs)"
   ]
  },
  {
   "cell_type": "markdown",
   "metadata": {},
   "source": [
    "I checked the individual locations in this list and several of them could be corrected easily by mapping to the respective country names. However there are several others, such as **Abkhazia, South Ossetia** etc, that are currently in conflict and thus their status is not certain. And several others that are considered as overseas territories and independent governing regions. I have left those locations untouched to avoid making any untoward assumptions. So below you can see the new names that will be applied to the some of the locations in the article dataset."
   ]
  },
  {
   "cell_type": "code",
   "execution_count": 118,
   "metadata": {},
   "outputs": [],
   "source": [
    "# correcting the names to match those in the population dataset.\n",
    "corrections = {\n",
    "    'Cape Colony': 'South Africa',\n",
    "    'Congo, Dem. Rep. of':'Congo, Dem. Rep.',\n",
    "    'Czech Republic':'Czechia',\n",
    "    'East Timorese':'Timor-Leste',\n",
    "    'South Korean' : 'Korea, South',\n",
    "    'Swaziland': 'eSwatini',\n",
    "    'Samoan':'Samoa',\n",
    "    'South African Republic':'South Africa',\n",
    "    'Saint Lucian':'Saint Lucia',\n",
    "    'Guadeloupe':'France',\n",
    "    'Hondura':'Honduras',\n",
    "    'Ivorian':\"Cote d'Ivoire\",\n",
    "    'Omani':'Oman',\n",
    "    'Palauan':'Palau',\n",
    "    'Saint Kitts and Nevis':'St. Kitts-Nevis',\n",
    "    'Saint Vincent and the Grenadines':'St. Vincent and the Grenadines',\n",
    "    'Salvadoran':'El Salvador',\n",
    "    'Rhodesian':'Zimbabwe'\n",
    "}\n",
    "# Mapping to new names\n",
    "article_df[\"country\"] = article_df[\"country\"].map(corrections).fillna(article_df['country'])\n",
    "# Saving the new updated data\n",
    "article_df.to_csv('data/page_data_v1.csv',index=False)"
   ]
  },
  {
   "cell_type": "markdown",
   "metadata": {},
   "source": [
    "### Section 2: Getting the article scores using ORES.\n",
    "\n",
    "As mentioned above ORES is a machine learning service that returns the quality of an article in the form of the following levels from highest to lowest:\n",
    "- FA - Featured article\n",
    "- GA - Good article\n",
    "- B - B-class article\n",
    "- C - C-class article\n",
    "- Start - Start-class article\n",
    "- Stub - Stub-class article\n",
    "\n",
    "Here the classes FA and GA are assigned to articles that are deemed high quality.\n",
    "Inorder to retrieve the scores from ORES, we need to provide a revision ID, which is the third column in page_data.csv  and the machine learning model, which is `wp10`.\n",
    "\n",
    "According to the API docs, it can handle 150 calls, so we need to send the requests in chunks to avoid hitting the rate limitter. "
   ]
  },
  {
   "cell_type": "code",
   "execution_count": 136,
   "metadata": {},
   "outputs": [
    {
     "name": "stdout",
     "output_type": "stream",
     "text": [
      "Chunk: 99\n",
      "Chunk: 199\n",
      "Chunk: 299\n",
      "Chunk: 399\n",
      "Chunk: 499\n"
     ]
    }
   ],
   "source": [
    "## Reading in the updated version of article data 'page_data_v1.csv'\n",
    "article_df = get_data('data/page_data_v1.csv')\n",
    "\n",
    "## The number of rows ~47000, so dividing the data into 500 chunks of approx. 90 rows.\n",
    "revision_score_arr = []\n",
    "revs_with_error = []\n",
    "for i, chunk in enumerate(np.array_split(article_df, 500)):\n",
    "    if (i+1)%100 == 0:\n",
    "        print(\"Chunk: {}\".format(i))\n",
    "    rev_ids = chunk['rev_id'].tolist()\n",
    "    # Getting the scores and storing the results in arrays.\n",
    "    rev_score_chunk, error_revs = get_ores_data(rev_ids)\n",
    "    revision_score_arr.extend(rev_score_chunk)\n",
    "    revs_with_error.extend(error_revs)\n",
    "    "
   ]
  },
  {
   "cell_type": "code",
   "execution_count": 142,
   "metadata": {},
   "outputs": [
    {
     "data": {
      "text/plain": [
       "(47092, 105)"
      ]
     },
     "execution_count": 142,
     "metadata": {},
     "output_type": "execute_result"
    }
   ],
   "source": [
    "len(revision_score_arr), len(revs_with_error)"
   ]
  },
  {
   "cell_type": "markdown",
   "metadata": {},
   "source": [
    "We got the score for almost all articles, except 105, which I assume should be okay.\n",
    "\n",
    "We now need to merge this result with the article data and then combine that with the population data to get the final analytical dataset. "
   ]
  },
  {
   "cell_type": "code",
   "execution_count": 147,
   "metadata": {},
   "outputs": [
    {
     "data": {
      "text/html": [
       "<div>\n",
       "<style scoped>\n",
       "    .dataframe tbody tr th:only-of-type {\n",
       "        vertical-align: middle;\n",
       "    }\n",
       "\n",
       "    .dataframe tbody tr th {\n",
       "        vertical-align: top;\n",
       "    }\n",
       "\n",
       "    .dataframe thead th {\n",
       "        text-align: right;\n",
       "    }\n",
       "</style>\n",
       "<table border=\"1\" class=\"dataframe\">\n",
       "  <thead>\n",
       "    <tr style=\"text-align: right;\">\n",
       "      <th></th>\n",
       "      <th>page</th>\n",
       "      <th>country</th>\n",
       "      <th>rev_id</th>\n",
       "      <th>score</th>\n",
       "    </tr>\n",
       "  </thead>\n",
       "  <tbody>\n",
       "    <tr>\n",
       "      <th>0</th>\n",
       "      <td>Bir I of Kanem</td>\n",
       "      <td>Chad</td>\n",
       "      <td>355319463</td>\n",
       "      <td>Stub</td>\n",
       "    </tr>\n",
       "    <tr>\n",
       "      <th>1</th>\n",
       "      <td>Template:Zimbabwe-politician-stub</td>\n",
       "      <td>Zimbabwe</td>\n",
       "      <td>391862046</td>\n",
       "      <td>Stub</td>\n",
       "    </tr>\n",
       "    <tr>\n",
       "      <th>2</th>\n",
       "      <td>Template:Uganda-politician-stub</td>\n",
       "      <td>Uganda</td>\n",
       "      <td>391862070</td>\n",
       "      <td>Stub</td>\n",
       "    </tr>\n",
       "    <tr>\n",
       "      <th>3</th>\n",
       "      <td>Template:Namibia-politician-stub</td>\n",
       "      <td>Namibia</td>\n",
       "      <td>391862409</td>\n",
       "      <td>Stub</td>\n",
       "    </tr>\n",
       "    <tr>\n",
       "      <th>4</th>\n",
       "      <td>Template:Nigeria-politician-stub</td>\n",
       "      <td>Nigeria</td>\n",
       "      <td>391862819</td>\n",
       "      <td>Stub</td>\n",
       "    </tr>\n",
       "  </tbody>\n",
       "</table>\n",
       "</div>"
      ],
      "text/plain": [
       "                                page   country     rev_id score\n",
       "0                     Bir I of Kanem      Chad  355319463  Stub\n",
       "1  Template:Zimbabwe-politician-stub  Zimbabwe  391862046  Stub\n",
       "2    Template:Uganda-politician-stub    Uganda  391862070  Stub\n",
       "3   Template:Namibia-politician-stub   Namibia  391862409  Stub\n",
       "4   Template:Nigeria-politician-stub   Nigeria  391862819  Stub"
      ]
     },
     "execution_count": 147,
     "metadata": {},
     "output_type": "execute_result"
    }
   ],
   "source": [
    "# Creating dataframe containing revision id and scores.\n",
    "revision_score_df = pd.DataFrame(revision_score_arr)\n",
    "# Combining this with the article data.\n",
    "article_df = article_df.merge(revision_score_df, on='rev_id')\n",
    "article_df.head(5)"
   ]
  },
  {
   "cell_type": "code",
   "execution_count": 148,
   "metadata": {},
   "outputs": [],
   "source": [
    "# Saving the data.\n",
    "article_df.to_csv('data/page_data_with_scores.csv', index=False)"
   ]
  },
  {
   "cell_type": "markdown",
   "metadata": {},
   "source": [
    "Now we need to combine this data with the population data. Before doing that we need to ensure that the dataframe are consistently named."
   ]
  },
  {
   "cell_type": "code",
   "execution_count": 149,
   "metadata": {},
   "outputs": [
    {
     "data": {
      "text/html": [
       "<div>\n",
       "<style scoped>\n",
       "    .dataframe tbody tr th:only-of-type {\n",
       "        vertical-align: middle;\n",
       "    }\n",
       "\n",
       "    .dataframe tbody tr th {\n",
       "        vertical-align: top;\n",
       "    }\n",
       "\n",
       "    .dataframe thead th {\n",
       "        text-align: right;\n",
       "    }\n",
       "</style>\n",
       "<table border=\"1\" class=\"dataframe\">\n",
       "  <thead>\n",
       "    <tr style=\"text-align: right;\">\n",
       "      <th></th>\n",
       "      <th>Geography</th>\n",
       "      <th>Population mid-2018 (millions)</th>\n",
       "    </tr>\n",
       "  </thead>\n",
       "  <tbody>\n",
       "    <tr>\n",
       "      <th>0</th>\n",
       "      <td>AFRICA</td>\n",
       "      <td>1284.0</td>\n",
       "    </tr>\n",
       "    <tr>\n",
       "      <th>1</th>\n",
       "      <td>Algeria</td>\n",
       "      <td>42.7</td>\n",
       "    </tr>\n",
       "    <tr>\n",
       "      <th>2</th>\n",
       "      <td>Egypt</td>\n",
       "      <td>97.0</td>\n",
       "    </tr>\n",
       "    <tr>\n",
       "      <th>3</th>\n",
       "      <td>Libya</td>\n",
       "      <td>6.5</td>\n",
       "    </tr>\n",
       "    <tr>\n",
       "      <th>4</th>\n",
       "      <td>Morocco</td>\n",
       "      <td>35.2</td>\n",
       "    </tr>\n",
       "  </tbody>\n",
       "</table>\n",
       "</div>"
      ],
      "text/plain": [
       "  Geography  Population mid-2018 (millions)\n",
       "0    AFRICA                          1284.0\n",
       "1   Algeria                            42.7\n",
       "2     Egypt                            97.0\n",
       "3     Libya                             6.5\n",
       "4   Morocco                            35.2"
      ]
     },
     "execution_count": 149,
     "metadata": {},
     "output_type": "execute_result"
    }
   ],
   "source": [
    "population_df.head()"
   ]
  },
  {
   "cell_type": "code",
   "execution_count": 150,
   "metadata": {},
   "outputs": [],
   "source": [
    "# Uncomment these lines if you want to restart from this point.\n",
    "# article_df = get_data('data/page_data_with_scores.csv')\n",
    "# population_df = get_data('data/WPDS_2018_data.csv')\n",
    "\n",
    "population_df = population_df.rename(columns={'Geography':'country', 'Population mid-2018 (millions)':'population'})\n",
    "article_df = article_df.rename(columns={'page':'article_name', 'rev_id':'revision_id', 'score':'article_quality'})"
   ]
  },
  {
   "cell_type": "code",
   "execution_count": 151,
   "metadata": {},
   "outputs": [],
   "source": [
    "# Merging the two dataframes to get the final analytical data.\n",
    "final_data = article_df.merge(population_df, on='country')"
   ]
  },
  {
   "cell_type": "code",
   "execution_count": 153,
   "metadata": {},
   "outputs": [
    {
     "data": {
      "text/html": [
       "<div>\n",
       "<style scoped>\n",
       "    .dataframe tbody tr th:only-of-type {\n",
       "        vertical-align: middle;\n",
       "    }\n",
       "\n",
       "    .dataframe tbody tr th {\n",
       "        vertical-align: top;\n",
       "    }\n",
       "\n",
       "    .dataframe thead th {\n",
       "        text-align: right;\n",
       "    }\n",
       "</style>\n",
       "<table border=\"1\" class=\"dataframe\">\n",
       "  <thead>\n",
       "    <tr style=\"text-align: right;\">\n",
       "      <th></th>\n",
       "      <th>article_name</th>\n",
       "      <th>country</th>\n",
       "      <th>revision_id</th>\n",
       "      <th>article_quality</th>\n",
       "      <th>population</th>\n",
       "    </tr>\n",
       "  </thead>\n",
       "  <tbody>\n",
       "    <tr>\n",
       "      <th>0</th>\n",
       "      <td>Bir I of Kanem</td>\n",
       "      <td>Chad</td>\n",
       "      <td>355319463</td>\n",
       "      <td>Stub</td>\n",
       "      <td>15.4</td>\n",
       "    </tr>\n",
       "    <tr>\n",
       "      <th>1</th>\n",
       "      <td>Abdullah II of Kanem</td>\n",
       "      <td>Chad</td>\n",
       "      <td>498683267</td>\n",
       "      <td>Stub</td>\n",
       "      <td>15.4</td>\n",
       "    </tr>\n",
       "    <tr>\n",
       "      <th>2</th>\n",
       "      <td>Salmama II of Kanem</td>\n",
       "      <td>Chad</td>\n",
       "      <td>565745353</td>\n",
       "      <td>Stub</td>\n",
       "      <td>15.4</td>\n",
       "    </tr>\n",
       "    <tr>\n",
       "      <th>3</th>\n",
       "      <td>Kuri I of Kanem</td>\n",
       "      <td>Chad</td>\n",
       "      <td>565745365</td>\n",
       "      <td>Stub</td>\n",
       "      <td>15.4</td>\n",
       "    </tr>\n",
       "    <tr>\n",
       "      <th>4</th>\n",
       "      <td>Mohammed I of Kanem</td>\n",
       "      <td>Chad</td>\n",
       "      <td>565745375</td>\n",
       "      <td>Stub</td>\n",
       "      <td>15.4</td>\n",
       "    </tr>\n",
       "  </tbody>\n",
       "</table>\n",
       "</div>"
      ],
      "text/plain": [
       "           article_name country  revision_id article_quality  population\n",
       "0        Bir I of Kanem    Chad    355319463            Stub        15.4\n",
       "1  Abdullah II of Kanem    Chad    498683267            Stub        15.4\n",
       "2   Salmama II of Kanem    Chad    565745353            Stub        15.4\n",
       "3       Kuri I of Kanem    Chad    565745365            Stub        15.4\n",
       "4   Mohammed I of Kanem    Chad    565745375            Stub        15.4"
      ]
     },
     "execution_count": 153,
     "metadata": {},
     "output_type": "execute_result"
    }
   ],
   "source": [
    "final_data.head(5)"
   ]
  },
  {
   "cell_type": "code",
   "execution_count": 154,
   "metadata": {},
   "outputs": [
    {
     "data": {
      "text/plain": [
       "(46371, 5)"
      ]
     },
     "execution_count": 154,
     "metadata": {},
     "output_type": "execute_result"
    }
   ],
   "source": [
    "final_data.shape"
   ]
  },
  {
   "cell_type": "markdown",
   "metadata": {},
   "source": [
    "The final dataset looks fine. We lost a couple of hundreds of articles because we didn't have matching names for several locations in the population dataset. But this should be enough to get a reasonable good result for our analysis. Last step is to save this data to ensure reproducibility."
   ]
  },
  {
   "cell_type": "code",
   "execution_count": 155,
   "metadata": {},
   "outputs": [],
   "source": [
    "final_data.to_csv('data/article_quality_with_population.csv', index=False)"
   ]
  },
  {
   "cell_type": "markdown",
   "metadata": {},
   "source": [
    "### Section 3: Analysis of articles \n",
    "\n",
    "The analysis involves processing the final data to find the article per person for each country and also examining the proportion of high quality articles. The steps involved are:\n",
    "- Finding the number of articles for each country.\n",
    "- Dividing by the population gives number of articles per person.\n",
    "- Sort the values in decreasing order for convenience.\n",
    "\n",
    "Note : Need to ensure that population is in the right scale"
   ]
  },
  {
   "cell_type": "code",
   "execution_count": 43,
   "metadata": {},
   "outputs": [],
   "source": [
    "# Reading the analytical dataset.\n",
    "score_with_population_data = get_data('data/article_quality_with_population.csv')\n",
    "# Converting population to original scale.\n",
    "score_with_population_data['population'] = score_with_population_data['population']*1000000\n",
    "# Finding the number of articles by country\n",
    "articles_by_country = score_with_population_data.groupby(['country','population']).agg('count')['article_name'].reset_index()\n",
    "# Renaming the column to reflect the value it contains.\n",
    "articles_by_country = articles_by_country.rename(columns={'article_name':'num_article'})\n",
    "\n",
    "# Finding the number of articles per person\n",
    "articles_by_country[\"article_per_person\"] = articles_by_country['num_article'] / articles_by_country['population']\n",
    "articles_by_country = articles_by_country.sort_values(by='article_per_person', ascending=False)"
   ]
  },
  {
   "cell_type": "markdown",
   "metadata": {},
   "source": [
    " Q1. 10 highest-ranked countries in terms of number of politician articles as a proportion of country population\n"
   ]
  },
  {
   "cell_type": "code",
   "execution_count": 57,
   "metadata": {},
   "outputs": [
    {
     "name": "stdout",
     "output_type": "stream",
     "text": [
      "              country  population  num_article  article_per_person\n",
      "178            Tuvalu     10000.0           55            0.005500\n",
      "120             Nauru     10000.0           53            0.005300\n",
      "144        San Marino     30000.0           82            0.002733\n",
      "130             Palau     20000.0           23            0.001150\n",
      "113            Monaco     40000.0           40            0.001000\n",
      "98      Liechtenstein     40000.0           29            0.000725\n",
      "160   St. Kitts-Nevis     50000.0           32            0.000640\n",
      "173             Tonga    100000.0           63            0.000630\n",
      "108  Marshall Islands     60000.0           37            0.000617\n",
      "73            Iceland    400000.0          206            0.000515\n"
     ]
    },
    {
     "data": {
      "text/plain": [
       "Text(0,0.5,'Proportion')"
      ]
     },
     "execution_count": 57,
     "metadata": {},
     "output_type": "execute_result"
    },
    {
     "data": {
      "image/png": "[encoded data removed]",
      "text/plain": [
       "<Figure size 432x288 with 1 Axes>"
      ]
     },
     "metadata": {},
     "output_type": "display_data"
    }
   ],
   "source": [
    "print(articles_by_country.head(10))\n",
    "ax = articles_by_country.head(10).plot.bar(\n",
    "    x='country', y='article_per_person', \n",
    "    title='Highest-ranked countries in terms of number of politician articles as a proportion of country population')\n",
    "ax.set_xlabel(\"Country\")\n",
    "ax.set_ylabel(\"Proportion\")"
   ]
  },
  {
   "cell_type": "markdown",
   "metadata": {},
   "source": [
    "Q.2 10 lowest-ranked countries in terms of number of politician articles as a proportion of country population."
   ]
  },
  {
   "cell_type": "code",
   "execution_count": 58,
   "metadata": {},
   "outputs": [
    {
     "name": "stdout",
     "output_type": "stream",
     "text": [
      "              country    population  num_article  article_per_person\n",
      "74              India  1.371300e+09          986        7.190257e-07\n",
      "75          Indonesia  2.652000e+08          214        8.069382e-07\n",
      "34              China  1.393800e+09         1135        8.143206e-07\n",
      "185        Uzbekistan  3.290000e+07           29        8.814590e-07\n",
      "55           Ethiopia  1.075000e+08          105        9.767442e-07\n",
      "190            Zambia  1.770000e+07           25        1.412429e-06\n",
      "87       Korea, North  2.560000e+07           39        1.523437e-06\n",
      "38   Congo, Dem. Rep.  8.430000e+07          142        1.684460e-06\n",
      "170          Thailand  6.620000e+07          112        1.691843e-06\n",
      "13         Bangladesh  1.664000e+08          323        1.941106e-06\n"
     ]
    },
    {
     "data": {
      "text/plain": [
       "Text(112.175,0.5,'Proportion')"
      ]
     },
     "execution_count": 58,
     "metadata": {},
     "output_type": "execute_result"
    },
    {
     "data": {
      "image/png": "[encoded data removed]",
      "text/plain": [
       "<Figure size 432x288 with 1 Axes>"
      ]
     },
     "metadata": {},
     "output_type": "display_data"
    }
   ],
   "source": [
    "print(articles_by_country.tail(10)[::-1])\n",
    "articles_by_country.tail(10)[::-1].plot.bar(\n",
    "    x='country', y='article_per_person',\n",
    "    title='Lowest-ranked countries in terms of number of politician articles as a proportion of country population')\n",
    "ax.set_xlabel(\"Country\")\n",
    "ax.set_ylabel(\"Proportion\")"
   ]
  },
  {
   "cell_type": "markdown",
   "metadata": {},
   "source": [
    "Q.3 10 highest-ranked countries in terms of number of GA and FA-quality articles as a proportion of all articles about politicians from that country"
   ]
  },
  {
   "cell_type": "code",
   "execution_count": 46,
   "metadata": {},
   "outputs": [
    {
     "data": {
      "text/html": [
       "<div>\n",
       "<style scoped>\n",
       "    .dataframe tbody tr th:only-of-type {\n",
       "        vertical-align: middle;\n",
       "    }\n",
       "\n",
       "    .dataframe tbody tr th {\n",
       "        vertical-align: top;\n",
       "    }\n",
       "\n",
       "    .dataframe thead th {\n",
       "        text-align: right;\n",
       "    }\n",
       "</style>\n",
       "<table border=\"1\" class=\"dataframe\">\n",
       "  <thead>\n",
       "    <tr style=\"text-align: right;\">\n",
       "      <th></th>\n",
       "      <th>hq_article_counts</th>\n",
       "      <th>total_article_counts</th>\n",
       "    </tr>\n",
       "    <tr>\n",
       "      <th>country</th>\n",
       "      <th></th>\n",
       "      <th></th>\n",
       "    </tr>\n",
       "  </thead>\n",
       "  <tbody>\n",
       "    <tr>\n",
       "      <th>Afghanistan</th>\n",
       "      <td>10</td>\n",
       "      <td>326</td>\n",
       "    </tr>\n",
       "    <tr>\n",
       "      <th>Albania</th>\n",
       "      <td>4</td>\n",
       "      <td>460</td>\n",
       "    </tr>\n",
       "    <tr>\n",
       "      <th>Algeria</th>\n",
       "      <td>2</td>\n",
       "      <td>119</td>\n",
       "    </tr>\n",
       "    <tr>\n",
       "      <th>Andorra</th>\n",
       "      <td>0</td>\n",
       "      <td>34</td>\n",
       "    </tr>\n",
       "    <tr>\n",
       "      <th>Angola</th>\n",
       "      <td>0</td>\n",
       "      <td>110</td>\n",
       "    </tr>\n",
       "  </tbody>\n",
       "</table>\n",
       "</div>"
      ],
      "text/plain": [
       "             hq_article_counts  total_article_counts\n",
       "country                                             \n",
       "Afghanistan                 10                   326\n",
       "Albania                      4                   460\n",
       "Algeria                      2                   119\n",
       "Andorra                      0                    34\n",
       "Angola                       0                   110"
      ]
     },
     "execution_count": 46,
     "metadata": {},
     "output_type": "execute_result"
    }
   ],
   "source": [
    "# Finding number of High quality papers and total number of articles by country.\n",
    "def find_article_counts_by_type(group):\n",
    "    \"\"\"\n",
    "    Function to find the number of articles by type, i.e, high quality or not.\n",
    "    Args:\n",
    "        group(pandas.Dataframe):  Dataframe for each country.\n",
    "    Returns:\n",
    "        df(pandas.Dataframe): Dataframe with counts by article type.\n",
    "    \"\"\"\n",
    "    high_quality_articles = group.query('article_quality == \"FA\" or article_quality == \"GA\"')\n",
    "    return pd.DataFrame([{'hq_article_counts':high_quality_articles.shape[0],\n",
    "                          'total_article_counts':group.shape[0]}])\n",
    "    \n",
    "article_type_by_country = score_with_population_data.groupby(\n",
    "    'country').apply(find_article_counts_by_type).reset_index(level=1, drop=True)\n",
    "article_type_by_country.head(5)"
   ]
  },
  {
   "cell_type": "code",
   "execution_count": 47,
   "metadata": {},
   "outputs": [],
   "source": [
    "# Finding proportion of hq articles and sorting them.\n",
    "article_type_by_country['proportion_hq_articles'] = (article_type_by_country['hq_article_counts'] / \n",
    "                                                     article_type_by_country['total_article_counts'])\n",
    "article_type_by_country.sort_values(by='proportion_hq_articles', ascending=False, inplace=True)\n",
    "# Dropping all locations that hasn't published any hq articles so far.\n",
    "article_type_by_country_hq = article_type_by_country.query('proportion_hq_articles != 0')"
   ]
  },
  {
   "cell_type": "code",
   "execution_count": 48,
   "metadata": {},
   "outputs": [
    {
     "data": {
      "text/html": [
       "<div>\n",
       "<style scoped>\n",
       "    .dataframe tbody tr th:only-of-type {\n",
       "        vertical-align: middle;\n",
       "    }\n",
       "\n",
       "    .dataframe tbody tr th {\n",
       "        vertical-align: top;\n",
       "    }\n",
       "\n",
       "    .dataframe thead th {\n",
       "        text-align: right;\n",
       "    }\n",
       "</style>\n",
       "<table border=\"1\" class=\"dataframe\">\n",
       "  <thead>\n",
       "    <tr style=\"text-align: right;\">\n",
       "      <th></th>\n",
       "      <th>hq_article_counts</th>\n",
       "      <th>total_article_counts</th>\n",
       "      <th>proportion_hq_articles</th>\n",
       "    </tr>\n",
       "    <tr>\n",
       "      <th>country</th>\n",
       "      <th></th>\n",
       "      <th></th>\n",
       "      <th></th>\n",
       "    </tr>\n",
       "  </thead>\n",
       "  <tbody>\n",
       "    <tr>\n",
       "      <th>Korea, North</th>\n",
       "      <td>7</td>\n",
       "      <td>39</td>\n",
       "      <td>0.179487</td>\n",
       "    </tr>\n",
       "    <tr>\n",
       "      <th>Saudi Arabia</th>\n",
       "      <td>16</td>\n",
       "      <td>119</td>\n",
       "      <td>0.134454</td>\n",
       "    </tr>\n",
       "    <tr>\n",
       "      <th>Central African Republic</th>\n",
       "      <td>8</td>\n",
       "      <td>68</td>\n",
       "      <td>0.117647</td>\n",
       "    </tr>\n",
       "    <tr>\n",
       "      <th>Romania</th>\n",
       "      <td>40</td>\n",
       "      <td>348</td>\n",
       "      <td>0.114943</td>\n",
       "    </tr>\n",
       "    <tr>\n",
       "      <th>Mauritania</th>\n",
       "      <td>5</td>\n",
       "      <td>52</td>\n",
       "      <td>0.096154</td>\n",
       "    </tr>\n",
       "    <tr>\n",
       "      <th>Tuvalu</th>\n",
       "      <td>5</td>\n",
       "      <td>55</td>\n",
       "      <td>0.090909</td>\n",
       "    </tr>\n",
       "    <tr>\n",
       "      <th>Bhutan</th>\n",
       "      <td>3</td>\n",
       "      <td>33</td>\n",
       "      <td>0.090909</td>\n",
       "    </tr>\n",
       "    <tr>\n",
       "      <th>Dominica</th>\n",
       "      <td>1</td>\n",
       "      <td>12</td>\n",
       "      <td>0.083333</td>\n",
       "    </tr>\n",
       "    <tr>\n",
       "      <th>United States</th>\n",
       "      <td>82</td>\n",
       "      <td>1092</td>\n",
       "      <td>0.075092</td>\n",
       "    </tr>\n",
       "    <tr>\n",
       "      <th>Benin</th>\n",
       "      <td>7</td>\n",
       "      <td>94</td>\n",
       "      <td>0.074468</td>\n",
       "    </tr>\n",
       "  </tbody>\n",
       "</table>\n",
       "</div>"
      ],
      "text/plain": [
       "                          hq_article_counts  total_article_counts  \\\n",
       "country                                                             \n",
       "Korea, North                              7                    39   \n",
       "Saudi Arabia                             16                   119   \n",
       "Central African Republic                  8                    68   \n",
       "Romania                                  40                   348   \n",
       "Mauritania                                5                    52   \n",
       "Tuvalu                                    5                    55   \n",
       "Bhutan                                    3                    33   \n",
       "Dominica                                  1                    12   \n",
       "United States                            82                  1092   \n",
       "Benin                                     7                    94   \n",
       "\n",
       "                          proportion_hq_articles  \n",
       "country                                           \n",
       "Korea, North                            0.179487  \n",
       "Saudi Arabia                            0.134454  \n",
       "Central African Republic                0.117647  \n",
       "Romania                                 0.114943  \n",
       "Mauritania                              0.096154  \n",
       "Tuvalu                                  0.090909  \n",
       "Bhutan                                  0.090909  \n",
       "Dominica                                0.083333  \n",
       "United States                           0.075092  \n",
       "Benin                                   0.074468  "
      ]
     },
     "execution_count": 48,
     "metadata": {},
     "output_type": "execute_result"
    }
   ],
   "source": [
    "article_type_by_country_hq.head(10)"
   ]
  },
  {
   "cell_type": "code",
   "execution_count": 59,
   "metadata": {},
   "outputs": [
    {
     "data": {
      "text/plain": [
       "Text(0,0.5,'Proportion')"
      ]
     },
     "execution_count": 59,
     "metadata": {},
     "output_type": "execute_result"
    },
    {
     "data": {
      "image/png": "[encoded data removed]",
      "text/plain": [
       "<Figure size 432x288 with 1 Axes>"
      ]
     },
     "metadata": {},
     "output_type": "display_data"
    }
   ],
   "source": [
    "ax = article_type_by_country_hq['proportion_hq_articles'].head(10).plot.bar(\n",
    "    title='highest-ranked countries in terms of number of GA and FA-quality articles as a proportion of all articles about politicians from that country')\n",
    "ax.set_xlabel(\"Country\")\n",
    "ax.set_ylabel(\"Proportion\")"
   ]
  },
  {
   "cell_type": "markdown",
   "metadata": {},
   "source": [
    "Q.4 10 lowest-ranked countries in terms of number of GA and FA-quality articles as a proportion of all articles about politicians from that country"
   ]
  },
  {
   "cell_type": "code",
   "execution_count": 50,
   "metadata": {},
   "outputs": [
    {
     "data": {
      "text/html": [
       "<div>\n",
       "<style scoped>\n",
       "    .dataframe tbody tr th:only-of-type {\n",
       "        vertical-align: middle;\n",
       "    }\n",
       "\n",
       "    .dataframe tbody tr th {\n",
       "        vertical-align: top;\n",
       "    }\n",
       "\n",
       "    .dataframe thead th {\n",
       "        text-align: right;\n",
       "    }\n",
       "</style>\n",
       "<table border=\"1\" class=\"dataframe\">\n",
       "  <thead>\n",
       "    <tr style=\"text-align: right;\">\n",
       "      <th></th>\n",
       "      <th>hq_article_counts</th>\n",
       "      <th>total_article_counts</th>\n",
       "      <th>proportion_hq_articles</th>\n",
       "    </tr>\n",
       "    <tr>\n",
       "      <th>country</th>\n",
       "      <th></th>\n",
       "      <th></th>\n",
       "      <th></th>\n",
       "    </tr>\n",
       "  </thead>\n",
       "  <tbody>\n",
       "    <tr>\n",
       "      <th>Tanzania</th>\n",
       "      <td>1</td>\n",
       "      <td>408</td>\n",
       "      <td>0.002451</td>\n",
       "    </tr>\n",
       "    <tr>\n",
       "      <th>Peru</th>\n",
       "      <td>1</td>\n",
       "      <td>354</td>\n",
       "      <td>0.002825</td>\n",
       "    </tr>\n",
       "    <tr>\n",
       "      <th>Czechia</th>\n",
       "      <td>1</td>\n",
       "      <td>254</td>\n",
       "      <td>0.003937</td>\n",
       "    </tr>\n",
       "    <tr>\n",
       "      <th>Lithuania</th>\n",
       "      <td>1</td>\n",
       "      <td>248</td>\n",
       "      <td>0.004032</td>\n",
       "    </tr>\n",
       "    <tr>\n",
       "      <th>Nigeria</th>\n",
       "      <td>3</td>\n",
       "      <td>682</td>\n",
       "      <td>0.004399</td>\n",
       "    </tr>\n",
       "    <tr>\n",
       "      <th>Morocco</th>\n",
       "      <td>1</td>\n",
       "      <td>208</td>\n",
       "      <td>0.004808</td>\n",
       "    </tr>\n",
       "    <tr>\n",
       "      <th>Fiji</th>\n",
       "      <td>1</td>\n",
       "      <td>199</td>\n",
       "      <td>0.005025</td>\n",
       "    </tr>\n",
       "    <tr>\n",
       "      <th>Bolivia</th>\n",
       "      <td>1</td>\n",
       "      <td>187</td>\n",
       "      <td>0.005348</td>\n",
       "    </tr>\n",
       "    <tr>\n",
       "      <th>Brazil</th>\n",
       "      <td>3</td>\n",
       "      <td>551</td>\n",
       "      <td>0.005445</td>\n",
       "    </tr>\n",
       "    <tr>\n",
       "      <th>Luxembourg</th>\n",
       "      <td>1</td>\n",
       "      <td>180</td>\n",
       "      <td>0.005556</td>\n",
       "    </tr>\n",
       "  </tbody>\n",
       "</table>\n",
       "</div>"
      ],
      "text/plain": [
       "            hq_article_counts  total_article_counts  proportion_hq_articles\n",
       "country                                                                    \n",
       "Tanzania                    1                   408                0.002451\n",
       "Peru                        1                   354                0.002825\n",
       "Czechia                     1                   254                0.003937\n",
       "Lithuania                   1                   248                0.004032\n",
       "Nigeria                     3                   682                0.004399\n",
       "Morocco                     1                   208                0.004808\n",
       "Fiji                        1                   199                0.005025\n",
       "Bolivia                     1                   187                0.005348\n",
       "Brazil                      3                   551                0.005445\n",
       "Luxembourg                  1                   180                0.005556"
      ]
     },
     "execution_count": 50,
     "metadata": {},
     "output_type": "execute_result"
    }
   ],
   "source": [
    "article_type_by_country_hq.tail(10)[::-1]"
   ]
  },
  {
   "cell_type": "code",
   "execution_count": 60,
   "metadata": {},
   "outputs": [
    {
     "data": {
      "text/plain": [
       "Text(219.542,0.5,'Proportion')"
      ]
     },
     "execution_count": 60,
     "metadata": {},
     "output_type": "execute_result"
    },
    {
     "data": {
      "image/png": "[encoded data removed]",
      "text/plain": [
       "<Figure size 432x288 with 1 Axes>"
      ]
     },
     "metadata": {},
     "output_type": "display_data"
    }
   ],
   "source": [
    "article_type_by_country_hq['proportion_hq_articles'].tail(10)[::-1].plot.bar(\n",
    "    title='Lowest-ranked countries in terms of number of GA and FA-quality articles as a proportion of all articles about politicians from that country')\n",
    "ax.set_xlabel(\"Country\")\n",
    "ax.set_ylabel(\"Proportion\")"
   ]
  },
  {
   "cell_type": "markdown",
   "metadata": {},
   "source": [
    "These are the countries for which atleast one article has been classified as a high quality article. There are several countries for which there are no high quality articles at all. Lets see what are those countries."
   ]
  },
  {
   "cell_type": "code",
   "execution_count": 54,
   "metadata": {},
   "outputs": [
    {
     "data": {
      "text/plain": [
       "array(['Antigua and Barbuda', 'Angola', 'Zambia', 'Andorra', 'Belgium',\n",
       "       'Cameroon', 'Timor-Leste', 'Bahamas', 'Cape Verde', 'Tunisia',\n",
       "       'Turkmenistan', 'Uganda', 'Costa Rica', 'Barbados', 'Belize',\n",
       "       'Comoros', 'Slovakia', 'Switzerland', 'Kazakhstan', 'Monaco',\n",
       "       'Marshall Islands', 'Malta', 'Mozambique', 'Macedonia', 'Nauru',\n",
       "       'Nepal', 'Oman', 'Liechtenstein', 'Lesotho', 'Kiribati',\n",
       "       'Honduras', \"Cote d'Ivoire\", 'Guyana', 'Finland', 'San Marino',\n",
       "       'Sao Tome and Principe', 'Federated States of Micronesia',\n",
       "       'Seychelles', 'Moldova', 'Solomon Islands', 'Djibouti',\n",
       "       'St. Kitts-Nevis', 'St. Vincent and the Grenadines', 'eSwatini'],\n",
       "      dtype=object)"
      ]
     },
     "execution_count": 54,
     "metadata": {},
     "output_type": "execute_result"
    }
   ],
   "source": [
    "article_type_by_country_nohq = article_type_by_country.query('proportion_hq_articles == 0')\n",
    "article_type_by_country_nohq.index.values"
   ]
  },
  {
   "cell_type": "markdown",
   "metadata": {},
   "source": [
    "Thus we can see several interesting results from the analysis. I have given a more indepth writeup of the results in the Readme of the repository. "
   ]
  }
 ],
 "metadata": {
  "kernelspec": {
   "display_name": "Python 3",
   "language": "python",
   "name": "python3"
  },
  "language_info": {
   "codemirror_mode": {
    "name": "ipython",
    "version": 3
   },
   "file_extension": ".py",
   "mimetype": "text/x-python",
   "name": "python",
   "nbconvert_exporter": "python",
   "pygments_lexer": "ipython3",
   "version": "3.6.5"
  }
 },
 "nbformat": 4,
 "nbformat_minor": 2
}
